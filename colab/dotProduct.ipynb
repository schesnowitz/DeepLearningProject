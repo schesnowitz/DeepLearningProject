{
  "nbformat": 4,
  "nbformat_minor": 0,
  "metadata": {
    "colab": {
      "provenance": [],
      "authorship_tag": "ABX9TyO1dsLtf3tyvnIuzknQzNE8",
      "include_colab_link": true
    },
    "kernelspec": {
      "name": "python3",
      "display_name": "Python 3"
    },
    "language_info": {
      "name": "python"
    }
  },
  "cells": [
    {
      "cell_type": "markdown",
      "metadata": {
        "id": "view-in-github",
        "colab_type": "text"
      },
      "source": [
        "<a href=\"https://colab.research.google.com/github/schesnowitz/DeepLearningProject/blob/main/colab/dotProduct.ipynb\" target=\"_parent\"><img src=\"https://colab.research.google.com/assets/colab-badge.svg\" alt=\"Open In Colab\"/></a>"
      ]
    },
    {
      "cell_type": "markdown",
      "source": [
        "the dot product or scalar product[note 1] is an algebraic operation that takes two equal-length sequences of numbers (usually coordinate vectors), and returns a single number."
      ],
      "metadata": {
        "id": "I_I1n3RdFh1M"
      }
    },
    {
      "cell_type": "code",
      "execution_count": null,
      "metadata": {
        "id": "cqK4mjc-9Lmx",
        "colab": {
          "base_uri": "https://localhost:8080/"
        },
        "outputId": "a9db8ab3-db4d-4559-a574-616e7fb9e871"
      },
      "outputs": [
        {
          "output_type": "stream",
          "name": "stdout",
          "text": [
            "-2\n",
            "-2\n"
          ]
        }
      ],
      "source": [
        "import torch\n",
        "import numpy as np\n",
        "\n",
        "npVect1 = np.array([1,2,3,4])\n",
        "npVect2 = np.array([0,1,0,-1])\n",
        "\n",
        "# dot product using function\n",
        "result = np.dot(npVect1, npVect2)\n",
        "print(result)\n",
        "# dot product using computation \n",
        "result = np.sum(npVect1 * npVect2)\n",
        "print(result)"
      ]
    },
    {
      "cell_type": "code",
      "source": [
        "# Using Torch\n",
        "\n",
        "torchVect1 = torch.tensor([1,2,3,4])\n",
        "torchVect2 = torch.tensor([0,1,0,-1])\n",
        "\n",
        "# dot product using function\n",
        "result = torch.dot(torchVect1, torchVect2)\n",
        "print(result)\n",
        "# dot product using computation \n",
        "result = torch.sum(torchVect1 * torchVect2)\n",
        "print(result)"
      ],
      "metadata": {
        "colab": {
          "base_uri": "https://localhost:8080/"
        },
        "id": "rMqnpvL__6Jn",
        "outputId": "84cfbf9a-dcf8-4aa3-c6a3-caf2efc4fe59"
      },
      "execution_count": null,
      "outputs": [
        {
          "output_type": "stream",
          "name": "stdout",
          "text": [
            "tensor(-2)\n",
            "tensor(-2)\n"
          ]
        }
      ]
    }
  ]
}