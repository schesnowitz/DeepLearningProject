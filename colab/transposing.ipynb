{
  "nbformat": 4,
  "nbformat_minor": 0,
  "metadata": {
    "colab": {
      "provenance": [],
      "authorship_tag": "ABX9TyOHiM5byTtksy2/2WyM70fq",
      "include_colab_link": true
    },
    "kernelspec": {
      "name": "python3",
      "display_name": "Python 3"
    },
    "language_info": {
      "name": "python"
    }
  },
  "cells": [
    {
      "cell_type": "markdown",
      "metadata": {
        "id": "view-in-github",
        "colab_type": "text"
      },
      "source": [
        "<a href=\"https://colab.research.google.com/github/schesnowitz/DeepLearningProject/blob/main/colab/transposing.ipynb\" target=\"_parent\"><img src=\"https://colab.research.google.com/assets/colab-badge.svg\" alt=\"Open In Colab\"/></a>"
      ]
    },
    {
      "cell_type": "code",
      "execution_count": 10,
      "metadata": {
        "colab": {
          "base_uri": "https://localhost:8080/"
        },
        "id": "-wbWmDW0kYGn",
        "outputId": "58b0388a-f200-4d4c-eab0-370626c9b5f9"
      },
      "outputs": [
        {
          "output_type": "stream",
          "name": "stdout",
          "text": [
            "[[1 2 3 4]]\n",
            "  \n",
            "[[1]\n",
            " [2]\n",
            " [3]\n",
            " [4]]\n",
            "  \n",
            "[[1 2 3 4]] \n",
            "\n",
            "[[1 2 3 4]\n",
            " [5 6 7 8]]\n",
            "\n",
            "[[1 5]\n",
            " [2 6]\n",
            " [3 7]\n",
            " [4 8]]\n",
            "\n",
            "[[1 2 3 4]\n",
            " [5 6 7 8]]\n",
            "\n"
          ]
        }
      ],
      "source": [
        "import torch\n",
        "import numpy as np\n",
        "\n",
        "\n",
        "# create vector\n",
        "np_vector = np.array([[1,2,3,4]])\n",
        "print(np_vector), print('  ')\n",
        "\n",
        "\n",
        "# transpose\n",
        "print(np_vector.T), print('  ')\n",
        "\n",
        "# transpose the transpose\n",
        "np_vectorT = np_vector.T\n",
        "print(f\"{np_vectorT.T} \\n\")\n",
        "\n",
        "# same for a matrix\n",
        "np_matrix = np.array([\n",
        "                        [1,2,3,4],\n",
        "                        [5,6,7,8]\n",
        "                    ])\n",
        "print(f\"{np_matrix}\\n\")\n",
        "\n",
        "# transposed matrix\n",
        "print(f\"{np_matrix.T}\\n\")\n",
        "\n",
        "# and back again\n",
        "npmT = np_matrix.T\n",
        "print(f\"{npmT.T}\\n\")"
      ]
    },
    {
      "cell_type": "markdown",
      "source": [
        "using numpy"
      ],
      "metadata": {
        "id": "e77qmGdT6xoX"
      }
    },
    {
      "cell_type": "code",
      "source": [
        "# create vector\n",
        "torch_vect = torch.tensor([[1,2,3,4]])\n",
        "print(f\"{torch_vect}\\n\")\n",
        "\n",
        "\n",
        "# transpose\n",
        "print(f\"{torch_vect.T}\\n\")\n",
        "\n",
        "# transpose the transpose\n",
        "torch_vectT = torch_vect.T\n",
        "print(f\"{torch_vectT.T} \\n\")\n",
        "\n",
        "# same for a matrix\n",
        "torch_matrix = torch.tensor([\n",
        "                        [1,2,3,4],\n",
        "                        [5,6,7,8]\n",
        "                    ])\n",
        "print(f\"{torch_matrix}\\n\")\n",
        "\n",
        "# transposed matrix\n",
        "print(f\"{torch_matrix.T}\\n\")\n",
        "\n",
        "# and back again\n",
        "torch_matrixT = torch_matrix.T\n",
        "print(f\"{torch_matrixT.T}\\n\")"
      ],
      "metadata": {
        "colab": {
          "base_uri": "https://localhost:8080/"
        },
        "id": "IHI8ALVm617W",
        "outputId": "8d5523e7-f54b-4357-87f3-d3dd62d8a7c3"
      },
      "execution_count": 12,
      "outputs": [
        {
          "output_type": "stream",
          "name": "stdout",
          "text": [
            "tensor([[1, 2, 3, 4]])\n",
            "\n",
            "tensor([[1],\n",
            "        [2],\n",
            "        [3],\n",
            "        [4]])\n",
            "\n",
            "tensor([[1, 2, 3, 4]]) \n",
            "\n",
            "tensor([[1, 2, 3, 4],\n",
            "        [5, 6, 7, 8]])\n",
            "\n",
            "tensor([[1, 5],\n",
            "        [2, 6],\n",
            "        [3, 7],\n",
            "        [4, 8]])\n",
            "\n",
            "tensor([[1, 2, 3, 4],\n",
            "        [5, 6, 7, 8]])\n",
            "\n"
          ]
        }
      ]
    }
  ]
}