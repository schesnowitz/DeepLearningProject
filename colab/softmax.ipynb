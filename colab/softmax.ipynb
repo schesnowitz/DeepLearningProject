{
  "nbformat": 4,
  "nbformat_minor": 0,
  "metadata": {
    "colab": {
      "provenance": [],
      "authorship_tag": "ABX9TyNk6b8RbZtc4YOTK0v/kHXW",
      "include_colab_link": true
    },
    "kernelspec": {
      "name": "python3",
      "display_name": "Python 3"
    },
    "language_info": {
      "name": "python"
    }
  },
  "cells": [
    {
      "cell_type": "markdown",
      "metadata": {
        "id": "view-in-github",
        "colab_type": "text"
      },
      "source": [
        "<a href=\"https://colab.research.google.com/github/schesnowitz/DeepLearningProject/blob/main/colab/softmax.ipynb\" target=\"_parent\"><img src=\"https://colab.research.google.com/assets/colab-badge.svg\" alt=\"Open In Colab\"/></a>"
      ]
    },
    {
      "cell_type": "code",
      "execution_count": 2,
      "metadata": {
        "colab": {
          "base_uri": "https://localhost:8080/"
        },
        "id": "YRDx4-9lFzKF",
        "outputId": "010aa125-2856-4657-b99d-099933966b5f"
      },
      "outputs": [
        {
          "output_type": "stream",
          "name": "stdout",
          "text": [
            "[0.09003057 0.24472847 0.66524096]\n",
            "1.0\n"
          ]
        }
      ],
      "source": [
        "import torch\n",
        "import numpy as np\n",
        "import torch.nn as nn\n",
        "import matplotlib.pyplot as plt\n",
        "\n",
        "# numpy manual method\n",
        "\n",
        "z = [1,2,3]\n",
        "\n",
        "# compute the softmax result\n",
        "\n",
        "num = np.exp(z)\n",
        "denom = np.sum(np.exp(z))\n",
        "sigma = num / denom\n",
        "\n",
        "print(sigma)\n",
        "print(np.sum(sigma))\n",
        "\n"
      ]
    }
  ]
}